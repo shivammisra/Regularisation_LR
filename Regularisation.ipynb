{
 "cells": [
  {
   "cell_type": "code",
   "execution_count": 42,
   "metadata": {},
   "outputs": [],
   "source": [
    "import numpy as np\n",
    "import pandas as pd\n",
    "import matplotlib.pyplot as plt\n",
    "import scipy.optimize as opt"
   ]
  },
  {
   "cell_type": "code",
   "execution_count": 43,
   "metadata": {},
   "outputs": [
    {
     "name": "stdout",
     "output_type": "stream",
     "text": [
      "['ex2data2.txt', 'ex1data2.txt', 'ex1data1.txt', 'Untitled.ipynb', '.ipynb_checkpoints', 'ex2data1.txt']\n"
     ]
    }
   ],
   "source": [
    "import os\n",
    "print(os.listdir('../input'))"
   ]
  },
  {
   "cell_type": "code",
   "execution_count": 44,
   "metadata": {},
   "outputs": [
    {
     "data": {
      "text/html": [
       "<div>\n",
       "<style>\n",
       "    .dataframe thead tr:only-child th {\n",
       "        text-align: right;\n",
       "    }\n",
       "\n",
       "    .dataframe thead th {\n",
       "        text-align: left;\n",
       "    }\n",
       "\n",
       "    .dataframe tbody tr th {\n",
       "        vertical-align: top;\n",
       "    }\n",
       "</style>\n",
       "<table border=\"1\" class=\"dataframe\">\n",
       "  <thead>\n",
       "    <tr style=\"text-align: right;\">\n",
       "      <th></th>\n",
       "      <th>0</th>\n",
       "      <th>1</th>\n",
       "      <th>2</th>\n",
       "    </tr>\n",
       "  </thead>\n",
       "  <tbody>\n",
       "    <tr>\n",
       "      <th>0</th>\n",
       "      <td>0.051267</td>\n",
       "      <td>0.69956</td>\n",
       "      <td>1</td>\n",
       "    </tr>\n",
       "    <tr>\n",
       "      <th>1</th>\n",
       "      <td>-0.092742</td>\n",
       "      <td>0.68494</td>\n",
       "      <td>1</td>\n",
       "    </tr>\n",
       "    <tr>\n",
       "      <th>2</th>\n",
       "      <td>-0.213710</td>\n",
       "      <td>0.69225</td>\n",
       "      <td>1</td>\n",
       "    </tr>\n",
       "    <tr>\n",
       "      <th>3</th>\n",
       "      <td>-0.375000</td>\n",
       "      <td>0.50219</td>\n",
       "      <td>1</td>\n",
       "    </tr>\n",
       "    <tr>\n",
       "      <th>4</th>\n",
       "      <td>-0.513250</td>\n",
       "      <td>0.46564</td>\n",
       "      <td>1</td>\n",
       "    </tr>\n",
       "  </tbody>\n",
       "</table>\n",
       "</div>"
      ],
      "text/plain": [
       "          0        1  2\n",
       "0  0.051267  0.69956  1\n",
       "1 -0.092742  0.68494  1\n",
       "2 -0.213710  0.69225  1\n",
       "3 -0.375000  0.50219  1\n",
       "4 -0.513250  0.46564  1"
      ]
     },
     "execution_count": 44,
     "metadata": {},
     "output_type": "execute_result"
    }
   ],
   "source": [
    "data = pd.read_csv('ex2data2.txt', header = None)\n",
    "X = data.iloc[:,:-1]\n",
    "y = data.iloc[:,2]  \n",
    "data.head()"
   ]
  },
  {
   "cell_type": "code",
   "execution_count": 45,
   "metadata": {},
   "outputs": [
    {
     "data": {
      "image/png": "[encoded data removed]",
      "text/plain": [
       "<matplotlib.figure.Figure at 0x7fb101ec67f0>"
      ]
     },
     "metadata": {},
     "output_type": "display_data"
    }
   ],
   "source": [
    "mask = y == 1\n",
    "passed=plt.scatter(X[mask][0].values,X[mask][1].values)\n",
    "failed=plt.scatter(X[~mask][0].values,X[~mask][1].values)\n",
    "plt.xlabel('microchip test1')\n",
    "plt.ylabel('microchip test2')\n",
    "plt.legend((passed,failed),('Passed','Failed'))\n",
    "plt.show()"
   ]
  },
  {
   "cell_type": "code",
   "execution_count": 46,
   "metadata": {},
   "outputs": [],
   "source": [
    "def mapFeature(X1, X2):\n",
    "    degree = 6\n",
    "    out = np.ones(X.shape[0])[:,np.newaxis]\n",
    "    for i in range(1, degree+1):\n",
    "        for j in range(i+1):\n",
    "            out = np.hstack((out, np.multiply(np.power(X1, i-j),                                     np.power(X2, j))[:,np.newaxis]))\n",
    "    return out\n",
    "\n",
    "X = mapFeature(X.iloc[:,0], X.iloc[:,1])"
   ]
  },
  {
   "cell_type": "code",
   "execution_count": 47,
   "metadata": {},
   "outputs": [],
   "source": [
    "def sigmoid(x):\n",
    "    return 1/(1+np.exp(-x))"
   ]
  },
  {
   "cell_type": "code",
   "execution_count": 48,
   "metadata": {},
   "outputs": [],
   "source": [
    "def lrCostFunction(theta_t, X_t, y_t, lambda_t):\n",
    "    m = len(y_t)\n",
    "    J = (-1/m) * (y_t.T @ np.log(sigmoid(X_t @ theta_t)) + (1 - y_t.T) @ np.log(1 - sigmoid(X_t @ theta_t)))\n",
    "    reg = (lambda_t/(2*m)) * (theta_t[1:].T @ theta_t[1:])\n",
    "    J = J + reg\n",
    "    return J"
   ]
  },
  {
   "cell_type": "code",
   "execution_count": 49,
   "metadata": {},
   "outputs": [],
   "source": [
    "def lrGradientDescent(theta, X, y, lambda_t):\n",
    "    m = len(y)\n",
    "    grad = np.zeros([m,1])\n",
    "    grad = (1/m) * X.T @ (sigmoid(X @ theta) - y)\n",
    "    grad[1:] = grad[1:] + (lambda_t / m) * theta[1:]\n",
    "    return grad"
   ]
  },
  {
   "cell_type": "code",
   "execution_count": 50,
   "metadata": {},
   "outputs": [
    {
     "name": "stdout",
     "output_type": "stream",
     "text": [
      "[[0.69314718]]\n"
     ]
    }
   ],
   "source": [
    "(m, n) = X.shape\n",
    "y = y[:, np.newaxis]\n",
    "theta = np.zeros((n,1))\n",
    "lmbda = 1\n",
    "\n",
    "J = lrCostFunction(theta, X, y, lmbda)\n",
    "print(J)"
   ]
  },
  {
   "cell_type": "code",
   "execution_count": 52,
   "metadata": {},
   "outputs": [
    {
     "name": "stdout",
     "output_type": "stream",
     "text": [
      "[ 1.27271026  0.62529965  1.18111687 -2.019874   -0.9174319  -1.43166929\n",
      "  0.12393228 -0.36553118 -0.35725404 -0.17516292 -1.45817009 -0.05098418\n",
      " -0.61558556 -0.27469165 -1.19271299 -0.24217841 -0.20603301 -0.04466178\n",
      " -0.27778949 -0.29539513 -0.45645982 -1.04319154  0.02779373 -0.29244868\n",
      "  0.0155576  -0.32742404 -0.1438915  -0.92467487]\n"
     ]
    }
   ],
   "source": [
    "output = opt.fmin_tnc(func = lrCostFunction, x0 = theta.flatten(), fprime = lrGradientDescent, \\\n",
    "                         args = (X, y.flatten(), lmbda))\n",
    "theta = output[0]\n",
    "print(theta)"
   ]
  },
  {
   "cell_type": "code",
   "execution_count": 53,
   "metadata": {},
   "outputs": [
    {
     "data": {
      "text/plain": [
       "83.05084745762711"
      ]
     },
     "execution_count": 53,
     "metadata": {},
     "output_type": "execute_result"
    }
   ],
   "source": [
    "pred = [sigmoid(np.dot(X, theta)) >= 0.5]\n",
    "np.mean(pred == y.flatten()) * 100"
   ]
  },
  {
   "cell_type": "code",
   "execution_count": 54,
   "metadata": {},
   "outputs": [
    {
     "data": {
      "image/png": "[encoded data removed]",
      "text/plain": [
       "<matplotlib.figure.Figure at 0x7fb101ec6470>"
      ]
     },
     "metadata": {},
     "output_type": "display_data"
    }
   ],
   "source": [
    "u = np.linspace(-1, 1.5, 50)\n",
    "v = np.linspace(-1, 1.5, 50)\n",
    "z = np.zeros((len(u), len(v)))\n",
    "\n",
    "def mapFeatureForPlotting(X1, X2):\n",
    "    degree = 6\n",
    "    out = np.ones(1)\n",
    "    for i in range(1, degree+1):\n",
    "        for j in range(i+1):\n",
    "            out = np.hstack((out, np.multiply(np.power(X1, i-j), np.power(X2, j))))\n",
    "    return out\n",
    "\n",
    "for i in range(len(u)):\n",
    "    for j in range(len(v)):\n",
    "        z[i,j] = np.dot(mapFeatureForPlotting(u[i], v[j]), theta)\n",
    "\n",
    "mask = y.flatten() == 1\n",
    "X = data.iloc[:,:-1]\n",
    "passed = plt.scatter(X[mask][0], X[mask][1])\n",
    "failed = plt.scatter(X[~mask][0], X[~mask][1])\n",
    "plt.contour(u,v,z,0)\n",
    "plt.xlabel('Microchip Test1')\n",
    "plt.ylabel('Microchip Test2')\n",
    "plt.legend((passed, failed), ('Passed', 'Failed'))\n",
    "plt.show()\n",
    "\n"
   ]
  },
  {
   "cell_type": "code",
   "execution_count": null,
   "metadata": {},
   "outputs": [],
   "source": []
  }
 ],
 "metadata": {
  "kernelspec": {
   "display_name": "Python 3",
   "language": "python",
   "name": "python3"
  },
  "language_info": {
   "codemirror_mode": {
    "name": "ipython",
    "version": 3
   },
   "file_extension": ".py",
   "mimetype": "text/x-python",
   "name": "python",
   "nbconvert_exporter": "python",
   "pygments_lexer": "ipython3",
   "version": "3.6.6"
  }
 },
 "nbformat": 4,
 "nbformat_minor": 2
}
